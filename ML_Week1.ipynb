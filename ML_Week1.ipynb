{
  "nbformat": 4,
  "nbformat_minor": 0,
  "metadata": {
    "colab": {
      "provenance": [],
      "authorship_tag": "ABX9TyMtziVq2Jxl50Q5kdRLJ+5+",
      "include_colab_link": true
    },
    "kernelspec": {
      "name": "python3",
      "display_name": "Python 3"
    },
    "language_info": {
      "name": "python"
    }
  },
  "cells": [
    {
      "cell_type": "markdown",
      "metadata": {
        "id": "view-in-github",
        "colab_type": "text"
      },
      "source": [
        "<a href=\"https://colab.research.google.com/github/nyla111/machine-learning-31005/blob/main/ML_Week1.ipynb\" target=\"_parent\"><img src=\"https://colab.research.google.com/assets/colab-badge.svg\" alt=\"Open In Colab\"/></a>"
      ]
    },
    {
      "cell_type": "markdown",
      "source": [
        "## Dummy Function"
      ],
      "metadata": {
        "id": "DeRW78eYFaOf"
      }
    },
    {
      "cell_type": "code",
      "execution_count": null,
      "metadata": {
        "id": "cX6_MNm2FDJM"
      },
      "outputs": [],
      "source": [
        "import numpy as np\n",
        "\n",
        "def classify_logistic_regression(X: np.ndarray) -> np.ndarray:\n",
        "    \"\"\"\n",
        "    Dummy logistic regression classifier returning probabilities.\n",
        "    X: numpy array of shape (n_samples, n_features)\n",
        "    Returns: array of shape (n_samples, 2) with [P(class0), P(class1)]\n",
        "    \"\"\"\n",
        "    # Random but normalized probabilities\n",
        "    random_scores = np.random.rand(X.shape[0])\n",
        "    probs_class1 = random_scores\n",
        "    probs_class0 = 1 - probs_class1\n",
        "\n",
        "    return np.column_stack([probs_class0, probs_class1])\n"
      ]
    },
    {
      "cell_type": "markdown",
      "source": [
        "## Load and Preprocess Data"
      ],
      "metadata": {
        "id": "L5zeeInPFVs8"
      }
    },
    {
      "cell_type": "code",
      "source": [
        "from sklearn.datasets import load_breast_cancer\n",
        "from sklearn.model_selection import train_test_split\n",
        "from sklearn.preprocessing import StandardScaler\n",
        "\n",
        "def load_and_preprocess_breast_cancer():\n",
        "    # Load dataset\n",
        "    data = load_breast_cancer()\n",
        "    X = data.data\n",
        "    y = data.target  # 0 = malignant, 1 = benign\n",
        "\n",
        "    # Scale features (important for LR stability)\n",
        "    scaler = StandardScaler()\n",
        "    X_scaled = scaler.fit_transform(X)\n",
        "\n",
        "    # Train-test split\n",
        "    X_train, X_test, y_train, y_test = train_test_split(\n",
        "        X_scaled, y, test_size=0.2, random_state=42\n",
        "    )\n",
        "\n",
        "    return X_train, X_test, y_train, y_test\n"
      ],
      "metadata": {
        "id": "jtAyKGA2FTmX"
      },
      "execution_count": null,
      "outputs": []
    },
    {
      "cell_type": "markdown",
      "source": [
        "## Test Function"
      ],
      "metadata": {
        "id": "8ShWWtAhFj53"
      }
    },
    {
      "cell_type": "code",
      "source": [
        "np.random.seed(42)\n",
        "\n",
        "X_train, X_test, y_train, y_test = load_and_preprocess_breast_cancer()\n",
        "\n",
        "# Run dummy classifier on first 5 samples\n",
        "dummy_probs = classify_logistic_regression(X_train[:20])\n",
        "print(\"Dummy output (first 20 rows):\\n\", dummy_probs)"
      ],
      "metadata": {
        "colab": {
          "base_uri": "https://localhost:8080/"
        },
        "id": "cMi2p_I9FlgA",
        "outputId": "0981eb41-a6da-4661-f63b-4f5473c368e6"
      },
      "execution_count": null,
      "outputs": [
        {
          "output_type": "stream",
          "name": "stdout",
          "text": [
            "Dummy output (first 20 rows):\n",
            " [[0.62545988 0.37454012]\n",
            " [0.04928569 0.95071431]\n",
            " [0.26800606 0.73199394]\n",
            " [0.40134152 0.59865848]\n",
            " [0.84398136 0.15601864]\n",
            " [0.84400548 0.15599452]\n",
            " [0.94191639 0.05808361]\n",
            " [0.13382385 0.86617615]\n",
            " [0.39888499 0.60111501]\n",
            " [0.29192742 0.70807258]\n",
            " [0.97941551 0.02058449]\n",
            " [0.03009015 0.96990985]\n",
            " [0.16755736 0.83244264]\n",
            " [0.78766089 0.21233911]\n",
            " [0.81817503 0.18182497]\n",
            " [0.81659549 0.18340451]\n",
            " [0.69575776 0.30424224]\n",
            " [0.47524357 0.52475643]\n",
            " [0.56805498 0.43194502]\n",
            " [0.70877086 0.29122914]]\n"
          ]
        }
      ]
    }
  ]
}