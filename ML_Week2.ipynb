{
  "nbformat": 4,
  "nbformat_minor": 0,
  "metadata": {
    "colab": {
      "provenance": [],
      "gpuType": "T4",
      "authorship_tag": "ABX9TyOn1a92OBrkkduGpKr9Ro3H",
      "include_colab_link": true
    },
    "kernelspec": {
      "name": "python3",
      "display_name": "Python 3"
    },
    "language_info": {
      "name": "python"
    },
    "accelerator": "GPU"
  },
  "cells": [
    {
      "cell_type": "markdown",
      "metadata": {
        "id": "view-in-github",
        "colab_type": "text"
      },
      "source": [
        "<a href=\"https://colab.research.google.com/github/nyla111/machine-learning-31005/blob/main/ML_Week2.ipynb\" target=\"_parent\"><img src=\"https://colab.research.google.com/assets/colab-badge.svg\" alt=\"Open In Colab\"/></a>"
      ]
    },
    {
      "cell_type": "markdown",
      "source": [
        "# 1. Load, split, scale\n",
        "\n",
        "I used the Breast Cancer Wisconsin dataset, built into scikit-learn. Each row represents one patient’s tumor with 30 numeric features (like radius, smoothness, symmetry). The target is binary:\n",
        "\n",
        "*   0 = malignant (cancerous)\n",
        "*   1 = benign (not cancerous)\n",
        "\n",
        "Before training Logistic Regression, I scaled the features with **StandardScaler** so all values have mean 0 and variance 1. This prevents features with larger numeric ranges from dominating."
      ],
      "metadata": {
        "id": "L5zeeInPFVs8"
      }
    },
    {
      "cell_type": "code",
      "source": [
        "from sklearn.datasets import load_breast_cancer\n",
        "from sklearn.model_selection import train_test_split\n",
        "from sklearn.preprocessing import StandardScaler\n",
        "\n",
        "data = load_breast_cancer()\n",
        "X, y = data.data, data.target  # 0=malignant, 1=benign\n",
        "\n",
        "scaler = StandardScaler()\n",
        "X_scaled = scaler.fit_transform(X)\n",
        "\n",
        "X_train, X_test, y_train, y_test = train_test_split(\n",
        "    X_scaled, y, test_size=0.2, random_state=42, stratify=y\n",
        ")\n"
      ],
      "metadata": {
        "id": "jtAyKGA2FTmX"
      },
      "execution_count": 1,
      "outputs": []
    },
    {
      "cell_type": "markdown",
      "source": [
        "# 2. Logistic Regression model (replaces dummy one)\n",
        "\n",
        "## 2.1 Hypothesis\n",
        "\n",
        "We assume probability of class 1 (benign) is modeled by a sigmoid function of a linear combination:\n",
        "\n",
        "$\\hat{p}(y=1|x) = \\sigma(w^T x + b), \\quad \\sigma(z) = \\frac{1}{1+e^{-z}}$\n",
        "\n",
        "This means the model takes input features, multiplies them by weights, adds a bias term, and then applies the sigmoid function to squash the output into a probability between 0 and 1.\n",
        "\n",
        "## 2.2 Loss Function\n",
        "\n",
        "To measure how well the model fits the data, we use the logistic (cross-entropy) loss:\n",
        "\n",
        "$L = -\\frac{1}{N}\\sum_i \\big[y_i \\log(\\hat{p}_i) + (1-y_i)\\log(1-\\hat{p}_i)\\big]$\n",
        "\n",
        "This loss penalizes the model more strongly when it makes confident but wrong predictions. If the model predicts 0.9 for a positive case, the loss is small; if it predicts 0.1 for a positive case, the loss is very large.\n",
        "\n",
        "\n",
        "## 2.3 Optimizer\n",
        "We train the model using gradient descent. The gradients of the loss with respect to the weights and bias show us how to adjust the parameters to reduce error. The update rules are:\n",
        "\n",
        "$w := w - \\eta \\frac{\\partial L}{\\partial w}, \\quad b := b - \\eta \\frac{\\partial L}{\\partial b}$\n",
        "\n",
        "where $ \\eta $ is the learning rate. Over many iterations, the model gradually improves by minimizing the loss."
      ],
      "metadata": {
        "id": "DeRW78eYFaOf"
      }
    },
    {
      "cell_type": "code",
      "source": [
        "import numpy as np\n",
        "\n",
        "class LogisticRegression:\n",
        "    def __init__(self, lr=0.01, n_iter=1000):\n",
        "        self.lr = lr\n",
        "        self.n_iter = n_iter\n",
        "        self.w = None\n",
        "        self.b = None\n",
        "        self.loss_history = []\n",
        "\n",
        "    def sigmoid(self, z):\n",
        "        return 1 / (1 + np.exp(-z))\n",
        "\n",
        "    def compute_loss(self, y, y_pred):\n",
        "        eps = 1e-9\n",
        "        return -np.mean(y*np.log(y_pred+eps) + (1-y)*np.log(1-y_pred+eps))\n",
        "\n",
        "    def fit(self, X, y):\n",
        "        n_samples, n_features = X.shape\n",
        "        self.w = np.zeros(n_features)\n",
        "        self.b = 0\n",
        "\n",
        "        for _ in range(self.n_iter):\n",
        "            linear_model = np.dot(X, self.w) + self.b   # w^T x + b\n",
        "            y_pred = self.sigmoid(linear_model)\n",
        "\n",
        "            # Record loss\n",
        "            loss = self.compute_loss(y, y_pred)\n",
        "            self.loss_history.append(loss)\n",
        "\n",
        "            # Gradient calculation\n",
        "            dw = (1/n_samples) * np.dot(X.T, (y_pred - y))\n",
        "            db = (1/n_samples) * np.sum(y_pred - y)\n",
        "\n",
        "            # Update parameters\n",
        "            self.w -= self.lr * dw\n",
        "            self.b -= self.lr * db\n",
        "\n",
        "    def predict_proba(self, X):\n",
        "        linear_model = np.dot(X, self.w) + self.b\n",
        "        y_pred = self.sigmoid(linear_model)\n",
        "        return np.column_stack([1-y_pred, y_pred])  # [P(class 0), P(class 1)]\n",
        "\n",
        "    def predict(self, X):\n",
        "        probs = self.predict_proba(X)\n",
        "        return (probs[:, 1] >= 0.5).astype(int)\n"
      ],
      "metadata": {
        "id": "2K7v51QYlIKM"
      },
      "execution_count": 15,
      "outputs": []
    },
    {
      "cell_type": "markdown",
      "source": [
        "# 3. Test Function"
      ],
      "metadata": {
        "id": "8ShWWtAhFj53"
      }
    },
    {
      "cell_type": "code",
      "source": [
        "from sklearn.datasets import load_breast_cancer\n",
        "from sklearn.model_selection import train_test_split\n",
        "from sklearn.preprocessing import StandardScaler\n",
        "from sklearn.metrics import accuracy_score, log_loss\n",
        "\n",
        "# Load and scale data\n",
        "data = load_breast_cancer()\n",
        "X, y = data.data, data.target\n",
        "scaler = StandardScaler()\n",
        "X_scaled = scaler.fit_transform(X)\n",
        "\n",
        "X_train, X_test, y_train, y_test = train_test_split(\n",
        "    X_scaled, y, test_size=0.2, random_state=42, stratify=y\n",
        ")\n",
        "\n",
        "# Train scratch model\n",
        "model = LogisticRegression(lr=0.1, n_iter=1000)\n",
        "model.fit(X_train, y_train)\n",
        "\n",
        "# Predictions\n",
        "probs = model.predict_proba(X_test)\n",
        "preds = model.predict(X_test)\n",
        "\n",
        "# Evaluation\n",
        "print(\"Accuracy:\", accuracy_score(y_test, preds))\n",
        "print(\"Log Loss:\", log_loss(y_test, probs))"
      ],
      "metadata": {
        "colab": {
          "base_uri": "https://localhost:8080/"
        },
        "id": "cMi2p_I9FlgA",
        "outputId": "0b51415d-8797-423b-afcf-b486b6081c9d"
      },
      "execution_count": 16,
      "outputs": [
        {
          "output_type": "stream",
          "name": "stdout",
          "text": [
            "Accuracy: 0.9649122807017544\n",
            "Log Loss: 0.08468648156873768\n"
          ]
        }
      ]
    },
    {
      "cell_type": "code",
      "source": [
        "import matplotlib.pyplot as plt\n",
        "\n",
        "plt.plot(model.loss_history)\n",
        "plt.xlabel(\"Iteration\")\n",
        "plt.ylabel(\"Log Loss\")\n",
        "plt.title(\"Training Loss Curve\")\n",
        "plt.show()"
      ],
      "metadata": {
        "colab": {
          "base_uri": "https://localhost:8080/",
          "height": 472
        },
        "id": "i_LUecG8pFWv",
        "outputId": "bdbcf0ea-e01c-47a7-d1b0-d18b1959bf83"
      },
      "execution_count": 17,
      "outputs": [
        {
          "output_type": "display_data",
          "data": {
            "text/plain": [
              "<Figure size 640x480 with 1 Axes>"
            ],
            "image/png": "[encoded data removed]"
          },
          "metadata": {}
        }
      ]
    }
  ]
}